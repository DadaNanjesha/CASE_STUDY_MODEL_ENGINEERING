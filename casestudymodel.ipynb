{
  "nbformat": 4,
  "nbformat_minor": 0,
  "metadata": {
    "colab": {
      "provenance": [],
      "toc_visible": true,
      "authorship_tag": "ABX9TyPBPQzWGrAfJ5rlpZqB+XEv",
      "include_colab_link": true
    },
    "kernelspec": {
      "name": "python3",
      "display_name": "Python 3"
    },
    "language_info": {
      "name": "python"
    }
  },
  "cells": [
    {
      "cell_type": "markdown",
      "metadata": {
        "id": "view-in-github",
        "colab_type": "text"
      },
      "source": [
        "<a href=\"https://colab.research.google.com/github/DadaNanjesha/CASE_STUDY_MODEL_ENGINEERING/blob/main/casestudymodel.ipynb\" target=\"_parent\"><img src=\"https://colab.research.google.com/assets/colab-badge.svg\" alt=\"Open In Colab\"/></a>"
      ]
    },
    {
      "cell_type": "code",
      "execution_count": 1,
      "metadata": {
        "id": "6NptFYr_GMzp"
      },
      "outputs": [],
      "source": [
        "import warnings\n",
        "import matplotlib.pyplot as plt\n",
        "import pandas as pd\n",
        "import seaborn as sns\n",
        "from scipy.stats import gaussian_kde\n",
        "from sklearn.ensemble import RandomForestClassifier, GradientBoostingClassifier\n",
        "from sklearn.metrics import accuracy_score, confusion_matrix, precision_score, recall_score, f1_score\n",
        "from sklearn.model_selection import train_test_split, RandomizedSearchCV\n",
        "from xgboost import XGBClassifier\n",
        "\n",
        "warnings.filterwarnings(\"ignore\", category=FutureWarning, module=\"seaborn\")\n"
      ]
    },
    {
      "cell_type": "code",
      "source": [
        "# Load a subset of the data for faster prototyping\n",
        "excel_file_path = \"PSP_Jan_Feb_2019.xlsx\"\n",
        "data = pd.read_excel(excel_file_path).sample(frac=0.1, random_state=42)\n"
      ],
      "metadata": {
        "id": "ECDsxIV4G5uT"
      },
      "execution_count": 5,
      "outputs": []
    },
    {
      "cell_type": "code",
      "source": [
        "# Preliminary Data Exploration\n",
        "print(\"Preliminary Data Exploration:\")\n",
        "print(f\"Number of Rows: {data.shape[0]}\")\n",
        "print(f\"Number of Columns: {data.shape[1]}\")"
      ],
      "metadata": {
        "id": "6ccr4izrHMAe"
      },
      "execution_count": null,
      "outputs": []
    },
    {
      "cell_type": "code",
      "source": [
        "# Display the first few rows of the dataset\n",
        "\n",
        "data.head()"
      ],
      "metadata": {
        "colab": {
          "base_uri": "https://localhost:8080/",
          "height": 206
        },
        "id": "uV85rbG5Idtl",
        "outputId": "0577b156-f78f-43cf-e7bd-42a5988eb69a"
      },
      "execution_count": 11,
      "outputs": [
        {
          "output_type": "execute_result",
          "data": {
            "text/plain": [
              "       Unnamed: 0                tmsp      country  amount  success  \\\n",
              "5087         5087 2019-01-05 14:06:04      Austria     215        0   \n",
              "22530       22530 2019-01-27 04:44:57      Germany     240        0   \n",
              "15518       15518 2019-01-17 20:30:02  Switzerland     382        0   \n",
              "3418         3418 2019-01-03 21:01:04      Germany      32        0   \n",
              "36168       36168 2019-02-11 08:20:46      Austria     211        0   \n",
              "\n",
              "              PSP  3D_secured    card  \n",
              "5087      UK_Card           0  Master  \n",
              "22530  Simplecard           0  Diners  \n",
              "15518     UK_Card           1  Master  \n",
              "3418      UK_Card           1  Master  \n",
              "36168     UK_Card           0  Master  "
            ],
            "text/html": [
              "\n",
              "  <div id=\"df-a1d30044-575f-4e1f-a401-d8be59589fb9\" class=\"colab-df-container\">\n",
              "    <div>\n",
              "<style scoped>\n",
              "    .dataframe tbody tr th:only-of-type {\n",
              "        vertical-align: middle;\n",
              "    }\n",
              "\n",
              "    .dataframe tbody tr th {\n",
              "        vertical-align: top;\n",
              "    }\n",
              "\n",
              "    .dataframe thead th {\n",
              "        text-align: right;\n",
              "    }\n",
              "</style>\n",
              "<table border=\"1\" class=\"dataframe\">\n",
              "  <thead>\n",
              "    <tr style=\"text-align: right;\">\n",
              "      <th></th>\n",
              "      <th>Unnamed: 0</th>\n",
              "      <th>tmsp</th>\n",
              "      <th>country</th>\n",
              "      <th>amount</th>\n",
              "      <th>success</th>\n",
              "      <th>PSP</th>\n",
              "      <th>3D_secured</th>\n",
              "      <th>card</th>\n",
              "    </tr>\n",
              "  </thead>\n",
              "  <tbody>\n",
              "    <tr>\n",
              "      <th>5087</th>\n",
              "      <td>5087</td>\n",
              "      <td>2019-01-05 14:06:04</td>\n",
              "      <td>Austria</td>\n",
              "      <td>215</td>\n",
              "      <td>0</td>\n",
              "      <td>UK_Card</td>\n",
              "      <td>0</td>\n",
              "      <td>Master</td>\n",
              "    </tr>\n",
              "    <tr>\n",
              "      <th>22530</th>\n",
              "      <td>22530</td>\n",
              "      <td>2019-01-27 04:44:57</td>\n",
              "      <td>Germany</td>\n",
              "      <td>240</td>\n",
              "      <td>0</td>\n",
              "      <td>Simplecard</td>\n",
              "      <td>0</td>\n",
              "      <td>Diners</td>\n",
              "    </tr>\n",
              "    <tr>\n",
              "      <th>15518</th>\n",
              "      <td>15518</td>\n",
              "      <td>2019-01-17 20:30:02</td>\n",
              "      <td>Switzerland</td>\n",
              "      <td>382</td>\n",
              "      <td>0</td>\n",
              "      <td>UK_Card</td>\n",
              "      <td>1</td>\n",
              "      <td>Master</td>\n",
              "    </tr>\n",
              "    <tr>\n",
              "      <th>3418</th>\n",
              "      <td>3418</td>\n",
              "      <td>2019-01-03 21:01:04</td>\n",
              "      <td>Germany</td>\n",
              "      <td>32</td>\n",
              "      <td>0</td>\n",
              "      <td>UK_Card</td>\n",
              "      <td>1</td>\n",
              "      <td>Master</td>\n",
              "    </tr>\n",
              "    <tr>\n",
              "      <th>36168</th>\n",
              "      <td>36168</td>\n",
              "      <td>2019-02-11 08:20:46</td>\n",
              "      <td>Austria</td>\n",
              "      <td>211</td>\n",
              "      <td>0</td>\n",
              "      <td>UK_Card</td>\n",
              "      <td>0</td>\n",
              "      <td>Master</td>\n",
              "    </tr>\n",
              "  </tbody>\n",
              "</table>\n",
              "</div>\n",
              "    <div class=\"colab-df-buttons\">\n",
              "\n",
              "  <div class=\"colab-df-container\">\n",
              "    <button class=\"colab-df-convert\" onclick=\"convertToInteractive('df-a1d30044-575f-4e1f-a401-d8be59589fb9')\"\n",
              "            title=\"Convert this dataframe to an interactive table.\"\n",
              "            style=\"display:none;\">\n",
              "\n",
              "  <svg xmlns=\"http://www.w3.org/2000/svg\" height=\"24px\" viewBox=\"0 -960 960 960\">\n",
              "    <path d=\"M120-120v-720h720v720H120Zm60-500h600v-160H180v160Zm220 220h160v-160H400v160Zm0 220h160v-160H400v160ZM180-400h160v-160H180v160Zm440 0h160v-160H620v160ZM180-180h160v-160H180v160Zm440 0h160v-160H620v160Z\"/>\n",
              "  </svg>\n",
              "    </button>\n",
              "\n",
              "  <style>\n",
              "    .colab-df-container {\n",
              "      display:flex;\n",
              "      gap: 12px;\n",
              "    }\n",
              "\n",
              "    .colab-df-convert {\n",
              "      background-color: #E8F0FE;\n",
              "      border: none;\n",
              "      border-radius: 50%;\n",
              "      cursor: pointer;\n",
              "      display: none;\n",
              "      fill: #1967D2;\n",
              "      height: 32px;\n",
              "      padding: 0 0 0 0;\n",
              "      width: 32px;\n",
              "    }\n",
              "\n",
              "    .colab-df-convert:hover {\n",
              "      background-color: #E2EBFA;\n",
              "      box-shadow: 0px 1px 2px rgba(60, 64, 67, 0.3), 0px 1px 3px 1px rgba(60, 64, 67, 0.15);\n",
              "      fill: #174EA6;\n",
              "    }\n",
              "\n",
              "    .colab-df-buttons div {\n",
              "      margin-bottom: 4px;\n",
              "    }\n",
              "\n",
              "    [theme=dark] .colab-df-convert {\n",
              "      background-color: #3B4455;\n",
              "      fill: #D2E3FC;\n",
              "    }\n",
              "\n",
              "    [theme=dark] .colab-df-convert:hover {\n",
              "      background-color: #434B5C;\n",
              "      box-shadow: 0px 1px 3px 1px rgba(0, 0, 0, 0.15);\n",
              "      filter: drop-shadow(0px 1px 2px rgba(0, 0, 0, 0.3));\n",
              "      fill: #FFFFFF;\n",
              "    }\n",
              "  </style>\n",
              "\n",
              "    <script>\n",
              "      const buttonEl =\n",
              "        document.querySelector('#df-a1d30044-575f-4e1f-a401-d8be59589fb9 button.colab-df-convert');\n",
              "      buttonEl.style.display =\n",
              "        google.colab.kernel.accessAllowed ? 'block' : 'none';\n",
              "\n",
              "      async function convertToInteractive(key) {\n",
              "        const element = document.querySelector('#df-a1d30044-575f-4e1f-a401-d8be59589fb9');\n",
              "        const dataTable =\n",
              "          await google.colab.kernel.invokeFunction('convertToInteractive',\n",
              "                                                    [key], {});\n",
              "        if (!dataTable) return;\n",
              "\n",
              "        const docLinkHtml = 'Like what you see? Visit the ' +\n",
              "          '<a target=\"_blank\" href=https://colab.research.google.com/notebooks/data_table.ipynb>data table notebook</a>'\n",
              "          + ' to learn more about interactive tables.';\n",
              "        element.innerHTML = '';\n",
              "        dataTable['output_type'] = 'display_data';\n",
              "        await google.colab.output.renderOutput(dataTable, element);\n",
              "        const docLink = document.createElement('div');\n",
              "        docLink.innerHTML = docLinkHtml;\n",
              "        element.appendChild(docLink);\n",
              "      }\n",
              "    </script>\n",
              "  </div>\n",
              "\n",
              "\n",
              "<div id=\"df-4d0c9022-2335-4a96-9a2e-54abfa5038e5\">\n",
              "  <button class=\"colab-df-quickchart\" onclick=\"quickchart('df-4d0c9022-2335-4a96-9a2e-54abfa5038e5')\"\n",
              "            title=\"Suggest charts\"\n",
              "            style=\"display:none;\">\n",
              "\n",
              "<svg xmlns=\"http://www.w3.org/2000/svg\" height=\"24px\"viewBox=\"0 0 24 24\"\n",
              "     width=\"24px\">\n",
              "    <g>\n",
              "        <path d=\"M19 3H5c-1.1 0-2 .9-2 2v14c0 1.1.9 2 2 2h14c1.1 0 2-.9 2-2V5c0-1.1-.9-2-2-2zM9 17H7v-7h2v7zm4 0h-2V7h2v10zm4 0h-2v-4h2v4z\"/>\n",
              "    </g>\n",
              "</svg>\n",
              "  </button>\n",
              "\n",
              "<style>\n",
              "  .colab-df-quickchart {\n",
              "      --bg-color: #E8F0FE;\n",
              "      --fill-color: #1967D2;\n",
              "      --hover-bg-color: #E2EBFA;\n",
              "      --hover-fill-color: #174EA6;\n",
              "      --disabled-fill-color: #AAA;\n",
              "      --disabled-bg-color: #DDD;\n",
              "  }\n",
              "\n",
              "  [theme=dark] .colab-df-quickchart {\n",
              "      --bg-color: #3B4455;\n",
              "      --fill-color: #D2E3FC;\n",
              "      --hover-bg-color: #434B5C;\n",
              "      --hover-fill-color: #FFFFFF;\n",
              "      --disabled-bg-color: #3B4455;\n",
              "      --disabled-fill-color: #666;\n",
              "  }\n",
              "\n",
              "  .colab-df-quickchart {\n",
              "    background-color: var(--bg-color);\n",
              "    border: none;\n",
              "    border-radius: 50%;\n",
              "    cursor: pointer;\n",
              "    display: none;\n",
              "    fill: var(--fill-color);\n",
              "    height: 32px;\n",
              "    padding: 0;\n",
              "    width: 32px;\n",
              "  }\n",
              "\n",
              "  .colab-df-quickchart:hover {\n",
              "    background-color: var(--hover-bg-color);\n",
              "    box-shadow: 0 1px 2px rgba(60, 64, 67, 0.3), 0 1px 3px 1px rgba(60, 64, 67, 0.15);\n",
              "    fill: var(--button-hover-fill-color);\n",
              "  }\n",
              "\n",
              "  .colab-df-quickchart-complete:disabled,\n",
              "  .colab-df-quickchart-complete:disabled:hover {\n",
              "    background-color: var(--disabled-bg-color);\n",
              "    fill: var(--disabled-fill-color);\n",
              "    box-shadow: none;\n",
              "  }\n",
              "\n",
              "  .colab-df-spinner {\n",
              "    border: 2px solid var(--fill-color);\n",
              "    border-color: transparent;\n",
              "    border-bottom-color: var(--fill-color);\n",
              "    animation:\n",
              "      spin 1s steps(1) infinite;\n",
              "  }\n",
              "\n",
              "  @keyframes spin {\n",
              "    0% {\n",
              "      border-color: transparent;\n",
              "      border-bottom-color: var(--fill-color);\n",
              "      border-left-color: var(--fill-color);\n",
              "    }\n",
              "    20% {\n",
              "      border-color: transparent;\n",
              "      border-left-color: var(--fill-color);\n",
              "      border-top-color: var(--fill-color);\n",
              "    }\n",
              "    30% {\n",
              "      border-color: transparent;\n",
              "      border-left-color: var(--fill-color);\n",
              "      border-top-color: var(--fill-color);\n",
              "      border-right-color: var(--fill-color);\n",
              "    }\n",
              "    40% {\n",
              "      border-color: transparent;\n",
              "      border-right-color: var(--fill-color);\n",
              "      border-top-color: var(--fill-color);\n",
              "    }\n",
              "    60% {\n",
              "      border-color: transparent;\n",
              "      border-right-color: var(--fill-color);\n",
              "    }\n",
              "    80% {\n",
              "      border-color: transparent;\n",
              "      border-right-color: var(--fill-color);\n",
              "      border-bottom-color: var(--fill-color);\n",
              "    }\n",
              "    90% {\n",
              "      border-color: transparent;\n",
              "      border-bottom-color: var(--fill-color);\n",
              "    }\n",
              "  }\n",
              "</style>\n",
              "\n",
              "  <script>\n",
              "    async function quickchart(key) {\n",
              "      const quickchartButtonEl =\n",
              "        document.querySelector('#' + key + ' button');\n",
              "      quickchartButtonEl.disabled = true;  // To prevent multiple clicks.\n",
              "      quickchartButtonEl.classList.add('colab-df-spinner');\n",
              "      try {\n",
              "        const charts = await google.colab.kernel.invokeFunction(\n",
              "            'suggestCharts', [key], {});\n",
              "      } catch (error) {\n",
              "        console.error('Error during call to suggestCharts:', error);\n",
              "      }\n",
              "      quickchartButtonEl.classList.remove('colab-df-spinner');\n",
              "      quickchartButtonEl.classList.add('colab-df-quickchart-complete');\n",
              "    }\n",
              "    (() => {\n",
              "      let quickchartButtonEl =\n",
              "        document.querySelector('#df-4d0c9022-2335-4a96-9a2e-54abfa5038e5 button');\n",
              "      quickchartButtonEl.style.display =\n",
              "        google.colab.kernel.accessAllowed ? 'block' : 'none';\n",
              "    })();\n",
              "  </script>\n",
              "</div>\n",
              "    </div>\n",
              "  </div>\n"
            ]
          },
          "metadata": {},
          "execution_count": 11
        }
      ]
    },
    {
      "cell_type": "code",
      "source": [
        "# Check for Duplicate Rows\n",
        "duplicates = data[data.duplicated()]\n",
        "print(f\"\\nNumber of Duplicate Rows: {duplicates.shape[0]}\")\n"
      ],
      "metadata": {
        "colab": {
          "base_uri": "https://localhost:8080/"
        },
        "id": "_1KWZ83c4TM5",
        "outputId": "cc695389-315c-4142-ae4e-d754c6d4309c"
      },
      "execution_count": 12,
      "outputs": [
        {
          "output_type": "stream",
          "name": "stdout",
          "text": [
            "\n",
            "Number of Duplicate Rows: 0\n"
          ]
        }
      ]
    },
    {
      "cell_type": "code",
      "source": [
        "# Data Understanding\n",
        "data_info = data.info()"
      ],
      "metadata": {
        "colab": {
          "base_uri": "https://localhost:8080/"
        },
        "id": "DkbPEYcVI0or",
        "outputId": "1381859e-1965-4c40-e6e6-d15961976eba"
      },
      "execution_count": 13,
      "outputs": [
        {
          "output_type": "stream",
          "name": "stdout",
          "text": [
            "<class 'pandas.core.frame.DataFrame'>\n",
            "Int64Index: 5041 entries, 5087 to 29985\n",
            "Data columns (total 8 columns):\n",
            " #   Column      Non-Null Count  Dtype         \n",
            "---  ------      --------------  -----         \n",
            " 0   Unnamed: 0  5041 non-null   int64         \n",
            " 1   tmsp        5041 non-null   datetime64[ns]\n",
            " 2   country     5041 non-null   object        \n",
            " 3   amount      5041 non-null   int64         \n",
            " 4   success     5041 non-null   int64         \n",
            " 5   PSP         5041 non-null   object        \n",
            " 6   3D_secured  5041 non-null   int64         \n",
            " 7   card        5041 non-null   object        \n",
            "dtypes: datetime64[ns](1), int64(4), object(3)\n",
            "memory usage: 354.4+ KB\n"
          ]
        }
      ]
    },
    {
      "cell_type": "code",
      "source": [
        "data.describe()"
      ],
      "metadata": {
        "colab": {
          "base_uri": "https://localhost:8080/",
          "height": 300
        },
        "id": "OeD7MzaZJCu6",
        "outputId": "ecad7fd2-8134-4ac5-bbd3-47b3429727df"
      },
      "execution_count": 14,
      "outputs": [
        {
          "output_type": "execute_result",
          "data": {
            "text/plain": [
              "         Unnamed: 0       amount      success   3D_secured\n",
              "count   5041.000000  5041.000000  5041.000000  5041.000000\n",
              "mean   25186.831978   203.822853     0.180321     0.232692\n",
              "std    14551.866454    94.914591     0.384493     0.422589\n",
              "min        4.000000     6.000000     0.000000     0.000000\n",
              "25%    12593.000000   135.000000     0.000000     0.000000\n",
              "50%    25648.000000   203.000000     0.000000     0.000000\n",
              "75%    37562.000000   268.000000     0.000000     0.000000\n",
              "max    50398.000000   630.000000     1.000000     1.000000"
            ],
            "text/html": [
              "\n",
              "  <div id=\"df-05441c6b-6298-4f91-b88c-5cf004064711\" class=\"colab-df-container\">\n",
              "    <div>\n",
              "<style scoped>\n",
              "    .dataframe tbody tr th:only-of-type {\n",
              "        vertical-align: middle;\n",
              "    }\n",
              "\n",
              "    .dataframe tbody tr th {\n",
              "        vertical-align: top;\n",
              "    }\n",
              "\n",
              "    .dataframe thead th {\n",
              "        text-align: right;\n",
              "    }\n",
              "</style>\n",
              "<table border=\"1\" class=\"dataframe\">\n",
              "  <thead>\n",
              "    <tr style=\"text-align: right;\">\n",
              "      <th></th>\n",
              "      <th>Unnamed: 0</th>\n",
              "      <th>amount</th>\n",
              "      <th>success</th>\n",
              "      <th>3D_secured</th>\n",
              "    </tr>\n",
              "  </thead>\n",
              "  <tbody>\n",
              "    <tr>\n",
              "      <th>count</th>\n",
              "      <td>5041.000000</td>\n",
              "      <td>5041.000000</td>\n",
              "      <td>5041.000000</td>\n",
              "      <td>5041.000000</td>\n",
              "    </tr>\n",
              "    <tr>\n",
              "      <th>mean</th>\n",
              "      <td>25186.831978</td>\n",
              "      <td>203.822853</td>\n",
              "      <td>0.180321</td>\n",
              "      <td>0.232692</td>\n",
              "    </tr>\n",
              "    <tr>\n",
              "      <th>std</th>\n",
              "      <td>14551.866454</td>\n",
              "      <td>94.914591</td>\n",
              "      <td>0.384493</td>\n",
              "      <td>0.422589</td>\n",
              "    </tr>\n",
              "    <tr>\n",
              "      <th>min</th>\n",
              "      <td>4.000000</td>\n",
              "      <td>6.000000</td>\n",
              "      <td>0.000000</td>\n",
              "      <td>0.000000</td>\n",
              "    </tr>\n",
              "    <tr>\n",
              "      <th>25%</th>\n",
              "      <td>12593.000000</td>\n",
              "      <td>135.000000</td>\n",
              "      <td>0.000000</td>\n",
              "      <td>0.000000</td>\n",
              "    </tr>\n",
              "    <tr>\n",
              "      <th>50%</th>\n",
              "      <td>25648.000000</td>\n",
              "      <td>203.000000</td>\n",
              "      <td>0.000000</td>\n",
              "      <td>0.000000</td>\n",
              "    </tr>\n",
              "    <tr>\n",
              "      <th>75%</th>\n",
              "      <td>37562.000000</td>\n",
              "      <td>268.000000</td>\n",
              "      <td>0.000000</td>\n",
              "      <td>0.000000</td>\n",
              "    </tr>\n",
              "    <tr>\n",
              "      <th>max</th>\n",
              "      <td>50398.000000</td>\n",
              "      <td>630.000000</td>\n",
              "      <td>1.000000</td>\n",
              "      <td>1.000000</td>\n",
              "    </tr>\n",
              "  </tbody>\n",
              "</table>\n",
              "</div>\n",
              "    <div class=\"colab-df-buttons\">\n",
              "\n",
              "  <div class=\"colab-df-container\">\n",
              "    <button class=\"colab-df-convert\" onclick=\"convertToInteractive('df-05441c6b-6298-4f91-b88c-5cf004064711')\"\n",
              "            title=\"Convert this dataframe to an interactive table.\"\n",
              "            style=\"display:none;\">\n",
              "\n",
              "  <svg xmlns=\"http://www.w3.org/2000/svg\" height=\"24px\" viewBox=\"0 -960 960 960\">\n",
              "    <path d=\"M120-120v-720h720v720H120Zm60-500h600v-160H180v160Zm220 220h160v-160H400v160Zm0 220h160v-160H400v160ZM180-400h160v-160H180v160Zm440 0h160v-160H620v160ZM180-180h160v-160H180v160Zm440 0h160v-160H620v160Z\"/>\n",
              "  </svg>\n",
              "    </button>\n",
              "\n",
              "  <style>\n",
              "    .colab-df-container {\n",
              "      display:flex;\n",
              "      gap: 12px;\n",
              "    }\n",
              "\n",
              "    .colab-df-convert {\n",
              "      background-color: #E8F0FE;\n",
              "      border: none;\n",
              "      border-radius: 50%;\n",
              "      cursor: pointer;\n",
              "      display: none;\n",
              "      fill: #1967D2;\n",
              "      height: 32px;\n",
              "      padding: 0 0 0 0;\n",
              "      width: 32px;\n",
              "    }\n",
              "\n",
              "    .colab-df-convert:hover {\n",
              "      background-color: #E2EBFA;\n",
              "      box-shadow: 0px 1px 2px rgba(60, 64, 67, 0.3), 0px 1px 3px 1px rgba(60, 64, 67, 0.15);\n",
              "      fill: #174EA6;\n",
              "    }\n",
              "\n",
              "    .colab-df-buttons div {\n",
              "      margin-bottom: 4px;\n",
              "    }\n",
              "\n",
              "    [theme=dark] .colab-df-convert {\n",
              "      background-color: #3B4455;\n",
              "      fill: #D2E3FC;\n",
              "    }\n",
              "\n",
              "    [theme=dark] .colab-df-convert:hover {\n",
              "      background-color: #434B5C;\n",
              "      box-shadow: 0px 1px 3px 1px rgba(0, 0, 0, 0.15);\n",
              "      filter: drop-shadow(0px 1px 2px rgba(0, 0, 0, 0.3));\n",
              "      fill: #FFFFFF;\n",
              "    }\n",
              "  </style>\n",
              "\n",
              "    <script>\n",
              "      const buttonEl =\n",
              "        document.querySelector('#df-05441c6b-6298-4f91-b88c-5cf004064711 button.colab-df-convert');\n",
              "      buttonEl.style.display =\n",
              "        google.colab.kernel.accessAllowed ? 'block' : 'none';\n",
              "\n",
              "      async function convertToInteractive(key) {\n",
              "        const element = document.querySelector('#df-05441c6b-6298-4f91-b88c-5cf004064711');\n",
              "        const dataTable =\n",
              "          await google.colab.kernel.invokeFunction('convertToInteractive',\n",
              "                                                    [key], {});\n",
              "        if (!dataTable) return;\n",
              "\n",
              "        const docLinkHtml = 'Like what you see? Visit the ' +\n",
              "          '<a target=\"_blank\" href=https://colab.research.google.com/notebooks/data_table.ipynb>data table notebook</a>'\n",
              "          + ' to learn more about interactive tables.';\n",
              "        element.innerHTML = '';\n",
              "        dataTable['output_type'] = 'display_data';\n",
              "        await google.colab.output.renderOutput(dataTable, element);\n",
              "        const docLink = document.createElement('div');\n",
              "        docLink.innerHTML = docLinkHtml;\n",
              "        element.appendChild(docLink);\n",
              "      }\n",
              "    </script>\n",
              "  </div>\n",
              "\n",
              "\n",
              "<div id=\"df-79dec245-b69b-4c06-a3d0-07995506374f\">\n",
              "  <button class=\"colab-df-quickchart\" onclick=\"quickchart('df-79dec245-b69b-4c06-a3d0-07995506374f')\"\n",
              "            title=\"Suggest charts\"\n",
              "            style=\"display:none;\">\n",
              "\n",
              "<svg xmlns=\"http://www.w3.org/2000/svg\" height=\"24px\"viewBox=\"0 0 24 24\"\n",
              "     width=\"24px\">\n",
              "    <g>\n",
              "        <path d=\"M19 3H5c-1.1 0-2 .9-2 2v14c0 1.1.9 2 2 2h14c1.1 0 2-.9 2-2V5c0-1.1-.9-2-2-2zM9 17H7v-7h2v7zm4 0h-2V7h2v10zm4 0h-2v-4h2v4z\"/>\n",
              "    </g>\n",
              "</svg>\n",
              "  </button>\n",
              "\n",
              "<style>\n",
              "  .colab-df-quickchart {\n",
              "      --bg-color: #E8F0FE;\n",
              "      --fill-color: #1967D2;\n",
              "      --hover-bg-color: #E2EBFA;\n",
              "      --hover-fill-color: #174EA6;\n",
              "      --disabled-fill-color: #AAA;\n",
              "      --disabled-bg-color: #DDD;\n",
              "  }\n",
              "\n",
              "  [theme=dark] .colab-df-quickchart {\n",
              "      --bg-color: #3B4455;\n",
              "      --fill-color: #D2E3FC;\n",
              "      --hover-bg-color: #434B5C;\n",
              "      --hover-fill-color: #FFFFFF;\n",
              "      --disabled-bg-color: #3B4455;\n",
              "      --disabled-fill-color: #666;\n",
              "  }\n",
              "\n",
              "  .colab-df-quickchart {\n",
              "    background-color: var(--bg-color);\n",
              "    border: none;\n",
              "    border-radius: 50%;\n",
              "    cursor: pointer;\n",
              "    display: none;\n",
              "    fill: var(--fill-color);\n",
              "    height: 32px;\n",
              "    padding: 0;\n",
              "    width: 32px;\n",
              "  }\n",
              "\n",
              "  .colab-df-quickchart:hover {\n",
              "    background-color: var(--hover-bg-color);\n",
              "    box-shadow: 0 1px 2px rgba(60, 64, 67, 0.3), 0 1px 3px 1px rgba(60, 64, 67, 0.15);\n",
              "    fill: var(--button-hover-fill-color);\n",
              "  }\n",
              "\n",
              "  .colab-df-quickchart-complete:disabled,\n",
              "  .colab-df-quickchart-complete:disabled:hover {\n",
              "    background-color: var(--disabled-bg-color);\n",
              "    fill: var(--disabled-fill-color);\n",
              "    box-shadow: none;\n",
              "  }\n",
              "\n",
              "  .colab-df-spinner {\n",
              "    border: 2px solid var(--fill-color);\n",
              "    border-color: transparent;\n",
              "    border-bottom-color: var(--fill-color);\n",
              "    animation:\n",
              "      spin 1s steps(1) infinite;\n",
              "  }\n",
              "\n",
              "  @keyframes spin {\n",
              "    0% {\n",
              "      border-color: transparent;\n",
              "      border-bottom-color: var(--fill-color);\n",
              "      border-left-color: var(--fill-color);\n",
              "    }\n",
              "    20% {\n",
              "      border-color: transparent;\n",
              "      border-left-color: var(--fill-color);\n",
              "      border-top-color: var(--fill-color);\n",
              "    }\n",
              "    30% {\n",
              "      border-color: transparent;\n",
              "      border-left-color: var(--fill-color);\n",
              "      border-top-color: var(--fill-color);\n",
              "      border-right-color: var(--fill-color);\n",
              "    }\n",
              "    40% {\n",
              "      border-color: transparent;\n",
              "      border-right-color: var(--fill-color);\n",
              "      border-top-color: var(--fill-color);\n",
              "    }\n",
              "    60% {\n",
              "      border-color: transparent;\n",
              "      border-right-color: var(--fill-color);\n",
              "    }\n",
              "    80% {\n",
              "      border-color: transparent;\n",
              "      border-right-color: var(--fill-color);\n",
              "      border-bottom-color: var(--fill-color);\n",
              "    }\n",
              "    90% {\n",
              "      border-color: transparent;\n",
              "      border-bottom-color: var(--fill-color);\n",
              "    }\n",
              "  }\n",
              "</style>\n",
              "\n",
              "  <script>\n",
              "    async function quickchart(key) {\n",
              "      const quickchartButtonEl =\n",
              "        document.querySelector('#' + key + ' button');\n",
              "      quickchartButtonEl.disabled = true;  // To prevent multiple clicks.\n",
              "      quickchartButtonEl.classList.add('colab-df-spinner');\n",
              "      try {\n",
              "        const charts = await google.colab.kernel.invokeFunction(\n",
              "            'suggestCharts', [key], {});\n",
              "      } catch (error) {\n",
              "        console.error('Error during call to suggestCharts:', error);\n",
              "      }\n",
              "      quickchartButtonEl.classList.remove('colab-df-spinner');\n",
              "      quickchartButtonEl.classList.add('colab-df-quickchart-complete');\n",
              "    }\n",
              "    (() => {\n",
              "      let quickchartButtonEl =\n",
              "        document.querySelector('#df-79dec245-b69b-4c06-a3d0-07995506374f button');\n",
              "      quickchartButtonEl.style.display =\n",
              "        google.colab.kernel.accessAllowed ? 'block' : 'none';\n",
              "    })();\n",
              "  </script>\n",
              "</div>\n",
              "    </div>\n",
              "  </div>\n"
            ]
          },
          "metadata": {},
          "execution_count": 14
        }
      ]
    },
    {
      "cell_type": "code",
      "source": [
        "# Data Quality Measurements\n",
        "data_quality = {\n",
        "    'Null Values': data.isnull().sum(),\n",
        "    'Unique Values': data.nunique(),\n",
        "    'Summary Statistics': data.describe()\n",
        "}\n",
        "# Display Data Quality Measurements\n",
        "for metric, value in data_quality.items():\n",
        "    print(f\"\\n{metric}:\\n{value}\")"
      ],
      "metadata": {
        "colab": {
          "base_uri": "https://localhost:8080/"
        },
        "id": "GGPG96QC4Vuf",
        "outputId": "8d231806-11a4-4cc1-eae0-1e45e81c3322"
      },
      "execution_count": 23,
      "outputs": [
        {
          "output_type": "stream",
          "name": "stdout",
          "text": [
            "\n",
            "Null Values:\n",
            "Unnamed: 0    0\n",
            "tmsp          0\n",
            "country       0\n",
            "amount        0\n",
            "success       0\n",
            "PSP           0\n",
            "3D_secured    0\n",
            "card          0\n",
            "dtype: int64\n",
            "\n",
            "Unique Values:\n",
            "Unnamed: 0    5041\n",
            "tmsp          5035\n",
            "country          3\n",
            "amount         450\n",
            "success          2\n",
            "PSP              4\n",
            "3D_secured       2\n",
            "card             3\n",
            "dtype: int64\n",
            "\n",
            "Summary Statistics:\n",
            "         Unnamed: 0       amount      success   3D_secured\n",
            "count   5041.000000  5041.000000  5041.000000  5041.000000\n",
            "mean   25186.831978   203.822853     0.180321     0.232692\n",
            "std    14551.866454    94.914591     0.384493     0.422589\n",
            "min        4.000000     6.000000     0.000000     0.000000\n",
            "25%    12593.000000   135.000000     0.000000     0.000000\n",
            "50%    25648.000000   203.000000     0.000000     0.000000\n",
            "75%    37562.000000   268.000000     0.000000     0.000000\n",
            "max    50398.000000   630.000000     1.000000     1.000000\n"
          ]
        }
      ]
    },
    {
      "cell_type": "code",
      "source": [
        "\n",
        "missing_data_counts = data.isnull().sum()\n",
        "print(missing_data_counts)"
      ],
      "metadata": {
        "colab": {
          "base_uri": "https://localhost:8080/"
        },
        "id": "NRjn1s9Mfsl1",
        "outputId": "fd87cee3-eb37-4185-a9f5-1c826b190e4e"
      },
      "execution_count": 25,
      "outputs": [
        {
          "output_type": "stream",
          "name": "stdout",
          "text": [
            "Unnamed: 0    0\n",
            "tmsp          0\n",
            "country       0\n",
            "amount        0\n",
            "success       0\n",
            "PSP           0\n",
            "3D_secured    0\n",
            "card          0\n",
            "dtype: int64\n"
          ]
        }
      ]
    },
    {
      "cell_type": "code",
      "source": [
        "# Visualize success distribution\n",
        "print(f\"Total number of Transactions : {data['success'].count()}\")\n",
        "print(f\"Transaction Status Failed: {data['success'].isin([0]).sum(axis=0)}\")\n",
        "print(f\"Transaction Status success: {data['success'].isin([1]).sum(axis=0)}\")\n",
        "ax = sns.countplot(x='success', data=data)\n",
        "ax.bar_label(ax.containers[0])\n",
        "plt.title(\"Distribution of Payment status\")\n",
        "labels = ['Failed', 'Successful']\n",
        "ax.set_xticklabels(labels)\n",
        "plt.xlabel(\"Count of Transactions \")\n",
        "plt.ylabel(\"Payment status\")\n",
        "plt.show()"
      ],
      "metadata": {
        "colab": {
          "base_uri": "https://localhost:8080/",
          "height": 559
        },
        "id": "Br623UStgp1p",
        "outputId": "910d9890-d8e2-4584-dacc-c33c200ef8af"
      },
      "execution_count": 26,
      "outputs": [
        {
          "output_type": "stream",
          "name": "stdout",
          "text": [
            "Total number of Transactions : 5041\n",
            "Transaction Status Failed: 4132\n",
            "Transaction Status success: 909\n"
          ]
        },
        {
          "output_type": "stream",
          "name": "stderr",
          "text": [
            "<ipython-input-26-9c72249eee4a>:9: UserWarning: FixedFormatter should only be used together with FixedLocator\n",
            "  ax.set_xticklabels(labels)\n"
          ]
        },
        {
          "output_type": "display_data",
          "data": {
            "text/plain": [
              "<Figure size 640x480 with 1 Axes>"
            ],
            "image/png": "[encoded data removed]"
          },
          "metadata": {}
        }
      ]
    },
    {
      "cell_type": "code",
      "source": [
        "# Distribution of Amount\n",
        "plt.figure(figsize=(12, 6))\n",
        "plt.hist(data['amount'], bins=20,color='green', edgecolor='black', density=True, alpha=0.5)\n",
        "kde = gaussian_kde(data['amount'])\n",
        "x_vals = range(int(min(data['amount'])), int(max(data['amount'])), 10)\n",
        "plt.plot(x_vals, kde(x_vals), color='red', linestyle='dashed', linewidth=2)\n",
        "plt.title(\"Distribution of Transaction Amount\")\n",
        "plt.xlabel(\"Transaction Amount\")\n",
        "plt.ylabel(\"Density\")\n",
        "plt.show()"
      ],
      "metadata": {
        "colab": {
          "base_uri": "https://localhost:8080/",
          "height": 564
        },
        "id": "3Cw6gQqAgtG6",
        "outputId": "f2cb1df2-e94b-4517-8335-bfdc3c12c2ef"
      },
      "execution_count": 39,
      "outputs": [
        {
          "output_type": "display_data",
          "data": {
            "text/plain": [
              "<Figure size 1200x600 with 1 Axes>"
            ],
            "image/png": "[encoded data removed]"
          },
          "metadata": {}
        }
      ]
    },
    {
      "cell_type": "code",
      "source": [
        "\n",
        "# Distribution of 3D Secured Status\n",
        "plt.figure(figsize=(8, 6))\n",
        "ax = sns.countplot(x='3D_secured', data=data)\n",
        "ax.bar_label(ax.containers[0])\n",
        "plt.title(\"Distribution of 3D Secured Status\")\n",
        "labels = ['Failed', 'Successful']\n",
        "ax.set_xticklabels(labels)\n",
        "plt.show()"
      ],
      "metadata": {
        "colab": {
          "base_uri": "https://localhost:8080/",
          "height": 599
        },
        "id": "eAFURAglgyDj",
        "outputId": "ddedd199-d5cf-4ec1-cbb4-fb4e70ecc06a"
      },
      "execution_count": 28,
      "outputs": [
        {
          "output_type": "stream",
          "name": "stderr",
          "text": [
            "<ipython-input-28-4c1fc0189890>:7: UserWarning: FixedFormatter should only be used together with FixedLocator\n",
            "  ax.set_xticklabels(labels)\n"
          ]
        },
        {
          "output_type": "display_data",
          "data": {
            "text/plain": [
              "<Figure size 800x600 with 1 Axes>"
            ],
            "image/png": "[encoded data removed]"
          },
          "metadata": {}
        }
      ]
    },
    {
      "cell_type": "code",
      "source": [
        "# Data Preprocessing\n",
        "data['timestamp_numeric'] = (data['tmsp'] - pd.Timestamp(\"1970-01-01\")) // pd.Timedelta('1s')\n",
        "data = data.drop(['tmsp', 'country', 'PSP', 'card'], axis=1)\n",
        "data['timestamp_numeric'] = data['timestamp_numeric'].astype('int32')\n"
      ],
      "metadata": {
        "id": "UQslBAnOg1N0"
      },
      "execution_count": 29,
      "outputs": []
    },
    {
      "cell_type": "code",
      "source": [
        "# Modeling\n",
        "X = data.drop(\"success\", axis=1)\n",
        "y = data[\"success\"]\n"
      ],
      "metadata": {
        "id": "J7d78K9Pg3sI"
      },
      "execution_count": 30,
      "outputs": []
    },
    {
      "cell_type": "code",
      "source": [
        "# Split the data into training and testing sets\n",
        "X_train, X_test, y_train, y_test = train_test_split(X, y, test_size=0.2, random_state=42)\n"
      ],
      "metadata": {
        "id": "QmT3bTk2g5hb"
      },
      "execution_count": 31,
      "outputs": []
    },
    {
      "cell_type": "code",
      "source": [
        "# Baseline model\n",
        "baseline_model = RandomForestClassifier(random_state=42)\n",
        "baseline_model.fit(X_train, y_train)\n",
        "baseline_predictions = baseline_model.predict(X_test)\n",
        "baseline_accuracy = accuracy_score(y_test, baseline_predictions)\n",
        "print(f\"RandomForestClassifier, {round(baseline_accuracy, 4)}\")\n"
      ],
      "metadata": {
        "colab": {
          "base_uri": "https://localhost:8080/"
        },
        "id": "onIlP0ANg5pl",
        "outputId": "93dd9fce-e745-499d-918e-37723264050f"
      },
      "execution_count": 32,
      "outputs": [
        {
          "output_type": "stream",
          "name": "stdout",
          "text": [
            "RandomForestClassifier, 0.782\n"
          ]
        }
      ]
    },
    {
      "cell_type": "code",
      "source": [
        "# Advanced predictive model XGBClassifier\n",
        "advanced_model = XGBClassifier(random_state=42)\n",
        "advanced_model.fit(X_train, y_train)\n",
        "advanced_predictions = advanced_model.predict(X_test)\n",
        "advanced_accuracy = accuracy_score(y_test, advanced_predictions)\n",
        "print(f\"XGBClassifier, {round(advanced_accuracy, 4)}\")\n"
      ],
      "metadata": {
        "colab": {
          "base_uri": "https://localhost:8080/"
        },
        "id": "NIY81YxlhcVV",
        "outputId": "b81cb848-c72a-4d80-af63-740e1454d097"
      },
      "execution_count": 33,
      "outputs": [
        {
          "output_type": "stream",
          "name": "stdout",
          "text": [
            "XGBClassifier, 0.8008\n"
          ]
        }
      ]
    },
    {
      "cell_type": "code",
      "source": [
        "# Advanced predictive model GradientBoostingClassifier\n",
        "advanced_model = GradientBoostingClassifier(random_state=42)\n",
        "advanced_model.fit(X_train, y_train)\n",
        "advanced_predictions = advanced_model.predict(X_test)\n",
        "advanced_accuracy = accuracy_score(y_test, advanced_predictions)\n",
        "print(f\"GradientBoostingClassifier, {round(advanced_accuracy, 4)}\")\n"
      ],
      "metadata": {
        "colab": {
          "base_uri": "https://localhost:8080/"
        },
        "id": "Pr0vyk-4hexb",
        "outputId": "0d3ad454-519f-44e4-bd35-0c237f913bd4"
      },
      "execution_count": 34,
      "outputs": [
        {
          "output_type": "stream",
          "name": "stdout",
          "text": [
            "GradientBoostingClassifier, 0.8285\n"
          ]
        }
      ]
    },
    {
      "cell_type": "code",
      "source": [
        "# Advanced predictive model\n",
        "advanced_model = RandomForestClassifier(n_estimators=100, max_depth=10, random_state=42)\n",
        "advanced_model.fit(X_train, y_train)\n",
        "advanced_predictions = advanced_model.predict(X_test)\n",
        "advanced_accuracy = accuracy_score(y_test, advanced_predictions)\n",
        "print(f\"Advanced predictive RandomForestClassifier, {round(advanced_accuracy, 4)}\")\n"
      ],
      "metadata": {
        "colab": {
          "base_uri": "https://localhost:8080/"
        },
        "id": "8etIRWoVhiUD",
        "outputId": "435329b7-5c96-413d-a8d1-0da1e2502f19"
      },
      "execution_count": 35,
      "outputs": [
        {
          "output_type": "stream",
          "name": "stdout",
          "text": [
            "Advanced predictive RandomForestClassifier, 0.8345\n"
          ]
        }
      ]
    },
    {
      "cell_type": "code",
      "source": [
        "param_distributions = {\n",
        "    'n_estimators': [50, 100, 200],\n",
        "    'max_depth': [None, 10, 20],\n",
        "    'min_samples_split': [2, 5, 10],\n",
        "}\n",
        "# Advanced predictive model RandomizedSearchCV\n",
        "advanced_model = RandomizedSearchCV(advanced_model, param_distributions, random_state=42)\n",
        "advanced_model.fit(X_train, y_train)\n",
        "advanced_predictions = advanced_model.predict(X_test)\n",
        "advanced_accuracy = accuracy_score(y_test, advanced_predictions)\n",
        "print(f\"RandomizedSearchCV, {round(advanced_accuracy, 4)}\")\n"
      ],
      "metadata": {
        "colab": {
          "base_uri": "https://localhost:8080/"
        },
        "id": "MQzxJHL5hlOH",
        "outputId": "58b62c0b-41ff-41bf-da19-b140bdc6f980"
      },
      "execution_count": 36,
      "outputs": [
        {
          "output_type": "stream",
          "name": "stdout",
          "text": [
            "RandomizedSearchCV, 0.8404\n"
          ]
        }
      ]
    },
    {
      "cell_type": "code",
      "source": [
        "# Error analysis\n",
        "conf_matrix = confusion_matrix(y_test, advanced_predictions)\n",
        "print(\"\\nError Analysis:\")\n",
        "print(\"Confusion Matrix:\")\n",
        "print(conf_matrix)"
      ],
      "metadata": {
        "colab": {
          "base_uri": "https://localhost:8080/"
        },
        "id": "TO860_NKhuqe",
        "outputId": "4d594b1b-f274-4d41-b528-4b03e22da93d"
      },
      "execution_count": 37,
      "outputs": [
        {
          "output_type": "stream",
          "name": "stdout",
          "text": [
            "\n",
            "Error Analysis:\n",
            "Confusion Matrix:\n",
            "[[848   2]\n",
            " [159   0]]\n"
          ]
        }
      ]
    },
    {
      "cell_type": "code",
      "source": [
        "# Additional Metrics\n",
        "accuracy = accuracy_score(y_test, advanced_predictions)\n",
        "precision = precision_score(y_test, advanced_predictions, average='weighted')\n",
        "recall = recall_score(y_test, advanced_predictions, average='weighted')\n",
        "f1_score = f1_score(y_test, advanced_predictions, average='weighted')\n",
        "\n",
        "print(f\"\\nAccuracy: {accuracy:.4f}\")\n",
        "print(f\"Precision: {precision:.4f}\")\n",
        "print(f\"Recall: {recall:.4f}\")\n",
        "print(f\"F1 Score: {f1_score:.4f}\")\n"
      ],
      "metadata": {
        "colab": {
          "base_uri": "https://localhost:8080/"
        },
        "id": "CCc2CigzhzjC",
        "outputId": "da3128ae-e2e9-4214-9b98-ead618f1c048"
      },
      "execution_count": 38,
      "outputs": [
        {
          "output_type": "stream",
          "name": "stdout",
          "text": [
            "\n",
            "Accuracy: 0.8404\n",
            "Precision: 0.7094\n",
            "Recall: 0.8404\n",
            "F1 Score: 0.7694\n"
          ]
        }
      ]
    }
  ]
}